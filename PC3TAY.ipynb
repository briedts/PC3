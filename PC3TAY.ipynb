{
 "cells": [
  {
   "cell_type": "markdown",
   "id": "c88ebf80",
   "metadata": {},
   "source": [
    "TRABAJO INDIVIDUAL\n",
    "===================\n",
    "\n",
    "Trabajar desde local.\n",
    "---------------------\n",
    "1. Crear un rpositorio con nombre PC3.\n",
    "2. Crea un archivo .ipnb con nombre prueba3 y anéxalo al repositorio.\n",
    "En el archivo agrega una función para obtener el factorial de un número entero positivo.\n",
    "3. Crea un archivo .csv con nombre datos3 y anéxalo al repositorio.\n",
    "El contenido debe tener una columna con las 10 primeras letras del abecedario.\n",
    "\n"
   ]
  },
  {
   "cell_type": "code",
   "execution_count": 3,
   "id": "ece5dbd3",
   "metadata": {},
   "outputs": [
    {
     "name": "stdout",
     "output_type": "stream",
     "text": [
      "Factorial of 10 is 3628800\n"
     ]
    }
   ],
   "source": [
    "def factorial(n): \n",
    "    return 1 if (n==1 or n==0) else n * factorial(n - 1);  \n",
    "  \n",
    "num = 10; \n",
    "print(\"Factorial of\",num,\"is\", factorial(num))"
   ]
  },
  {
   "cell_type": "code",
   "execution_count": null,
   "id": "b2833c00",
   "metadata": {},
   "outputs": [],
   "source": []
  },
  {
   "cell_type": "markdown",
   "id": "80ed2fc8",
   "metadata": {},
   "source": [
    "TRABAJO COLABORATIVO\n",
    "=====================\n",
    "4. Editar el archivo .ipynb agregando otra función para obtener el factorial de un número entero positivo.\n",
    "Nota: esto debe realizarlo en local y luego levantarlo en remoto.\n",
    "Y agregar el readme.md al proyecto\n",
    "5. Explorar un repositorio de otro de sus compañeros y realice un requerimiento de edición en algún archivo\n",
    "del proyecto\n",
    "6. Aceptar los cambios requeridos"
   ]
  },
  {
   "cell_type": "code",
   "execution_count": null,
   "id": "08e7598b",
   "metadata": {},
   "outputs": [],
   "source": [
    "# cambio grupal\n",
    "def factorial(n):\n",
    "    if n>=1:\n",
    "        \n",
    "        factorial = 1\n",
    "        for i in range(1, n+1):\n",
    "            factorial = factorial*i\n",
    "        return factorial\n",
    "    else:\n",
    "        print(\"El número ingresado es inválido.\")\n",
    "\n",
    "factorial(4)\n",
    "        "
   ]
  }
 ],
 "metadata": {
  "kernelspec": {
   "display_name": "Python 3 (ipykernel)",
   "language": "python",
   "name": "python3"
  },
  "language_info": {
   "codemirror_mode": {
    "name": "ipython",
    "version": 3
   },
   "file_extension": ".py",
   "mimetype": "text/x-python",
   "name": "python",
   "nbconvert_exporter": "python",
   "pygments_lexer": "ipython3",
   "version": "3.9.12"
  }
 },
 "nbformat": 4,
 "nbformat_minor": 5
}
